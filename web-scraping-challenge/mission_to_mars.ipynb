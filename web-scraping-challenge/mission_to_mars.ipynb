{
 "cells": [
  {
   "cell_type": "code",
   "execution_count": 1,
   "id": "891ba780",
   "metadata": {},
   "outputs": [],
   "source": [
    "#import dependencies\n",
    "from bs4 import BeautifulSoup as bs\n",
    "import requests\n",
    "import pymongo\n",
    "\n",
    "from splinter import Browser\n",
    "from webdriver_manager.chrome import ChromeDriverManager"
   ]
  },
  {
   "cell_type": "markdown",
   "id": "b5fd9cb0",
   "metadata": {},
   "source": [
    "# NASA Mars News"
   ]
  },
  {
   "cell_type": "code",
   "execution_count": 2,
   "id": "107e1c63",
   "metadata": {},
   "outputs": [],
   "source": [
    "# URL of page to be scraped\n",
    "url = 'https://redplanetscience.com/'"
   ]
  },
  {
   "cell_type": "code",
   "execution_count": 3,
   "id": "eefa4c3f",
   "metadata": {},
   "outputs": [
    {
     "name": "stderr",
     "output_type": "stream",
     "text": [
      "\n",
      "\n",
      "====== WebDriver manager ======\n",
      "Current google-chrome version is 102.0.5005\n",
      "Get LATEST chromedriver version for 102.0.5005 google-chrome\n",
      "Driver [/Users/annepizzini/.wdm/drivers/chromedriver/mac64/102.0.5005.61/chromedriver] found in cache\n"
     ]
    }
   ],
   "source": [
    "executable_path = {'executable_path': ChromeDriverManager().install()}\n",
    "browser = Browser('chrome', **executable_path, headless=True)"
   ]
  },
  {
   "cell_type": "code",
   "execution_count": 4,
   "id": "513ae544",
   "metadata": {},
   "outputs": [],
   "source": [
    "browser.visit(url)"
   ]
  },
  {
   "cell_type": "code",
   "execution_count": 5,
   "id": "673adfa7",
   "metadata": {},
   "outputs": [
    {
     "data": {
      "text/plain": [
       "True"
      ]
     },
     "execution_count": 5,
     "metadata": {},
     "output_type": "execute_result"
    }
   ],
   "source": [
    "browser.is_element_present_by_css('div.list_text', wait_time=5)"
   ]
  },
  {
   "cell_type": "code",
   "execution_count": 6,
   "id": "fc33c1ad",
   "metadata": {},
   "outputs": [],
   "source": [
    "html = browser.html"
   ]
  },
  {
   "cell_type": "code",
   "execution_count": 7,
   "id": "8f428dd3",
   "metadata": {},
   "outputs": [],
   "source": [
    "# Create BeautifulSoup object; parse with 'html.parser'\n",
    "soup = bs(html, \"html.parser\")\n",
    "#soup"
   ]
  },
  {
   "cell_type": "code",
   "execution_count": 8,
   "id": "263042a1",
   "metadata": {},
   "outputs": [
    {
     "data": {
      "text/plain": [
       "<div class=\"list_date\">May 31, 2022</div>"
      ]
     },
     "execution_count": 8,
     "metadata": {},
     "output_type": "execute_result"
    }
   ],
   "source": [
    "#testing for latency\n",
    "ntitle = soup.select_one('#news .list_date')\n",
    "ntitle"
   ]
  },
  {
   "cell_type": "code",
   "execution_count": 9,
   "id": "f0abc53b",
   "metadata": {},
   "outputs": [
    {
     "data": {
      "text/plain": [
       "<div class=\"container\" id=\"news\">\n",
       "<div class=\"col-md-12\">\n",
       "<hr/>\n",
       "<div class=\"row\">\n",
       "<div class=\"col-md-4\">\n",
       "<div class=\"list_image\">\n",
       "<img src=\"https://mars.nasa.gov/system/news_items/list_view_images/8677_airplane20200521-320.jpg\"/>\n",
       "</div>\n",
       "</div>\n",
       "<div class=\"col-md-8\">\n",
       "<div class=\"list_text\">\n",
       "<div class=\"list_date\">May 31, 2022</div>\n",
       "<div class=\"content_title\">Air Deliveries Bring NASA's Perseverance Mars Rover Closer to Launch</div>\n",
       "<div class=\"article_teaser_body\">A NASA Wallops Flight Facility cargo plane transported more than two tons of equipment — including the rover's sample collection tubes — to Florida for this summer's liftoff.</div>\n",
       "</div>\n",
       "</div>\n",
       "</div>\n",
       "</div>\n",
       "<div class=\"col-md-12\">\n",
       "<hr/>\n",
       "<div class=\"row\">\n",
       "<div class=\"col-md-4\">\n",
       "<div class=\"list_image\">\n",
       "<img src=\"https://mars.nasa.gov/system/news_items/list_view_images/8744_PIA22957-226.jpg\"/>\n",
       "</div>\n",
       "</div>\n",
       "<div class=\"col-md-8\">\n",
       "<div class=\"list_text\">\n",
       "<div class=\"list_date\">May 30, 2022</div>\n",
       "<div class=\"content_title\">NASA Engineers Checking InSight's Weather Sensors</div>\n",
       "<div class=\"article_teaser_body\">An electronics issue is suspected to be preventing the sensors from sharing their data about Mars weather with the spacecraft.</div>\n",
       "</div>\n",
       "</div>\n",
       "</div>\n",
       "</div>\n",
       "<div class=\"col-md-12\">\n",
       "<hr/>\n",
       "<div class=\"row\">\n",
       "<div class=\"col-md-4\">\n",
       "<div class=\"list_image\">\n",
       "<img src=\"https://mars.nasa.gov/system/news_items/list_view_images/8607_PIA23591-320x240.jpg\"/>\n",
       "</div>\n",
       "</div>\n",
       "<div class=\"col-md-8\">\n",
       "<div class=\"list_text\">\n",
       "<div class=\"list_date\">May 27, 2022</div>\n",
       "<div class=\"content_title\">NASA's Mars 2020 Rover Goes Coast-to-Coast to Prep for Launch</div>\n",
       "<div class=\"article_teaser_body\">The agency's first step in returning rocks from Mars just arrived at Kennedy Space Center. The Mars 2020 team now begins readying for a launch to the Red Planet this July.</div>\n",
       "</div>\n",
       "</div>\n",
       "</div>\n",
       "</div>\n",
       "<div class=\"col-md-12\">\n",
       "<hr/>\n",
       "<div class=\"row\">\n",
       "<div class=\"col-md-4\">\n",
       "<div class=\"list_image\">\n",
       "<img src=\"https://mars.nasa.gov/system/news_items/list_view_images/8797_maven_illo_v7-320.jpg\"/>\n",
       "</div>\n",
       "</div>\n",
       "<div class=\"col-md-8\">\n",
       "<div class=\"list_text\">\n",
       "<div class=\"list_date\">May 27, 2022</div>\n",
       "<div class=\"content_title\">Heat and Dust Help Launch Martian Water Into Space, Scientists Find</div>\n",
       "<div class=\"article_teaser_body\">Scientists using an instrument aboard NASA’s Mars Atmosphere and Volatile EvolutioN, or MAVEN, spacecraft have discovered that water vapor near the surface of the Red Planet is lofted higher into the atmosphere than anyone expected was possible. </div>\n",
       "</div>\n",
       "</div>\n",
       "</div>\n",
       "</div>\n",
       "<div class=\"col-md-12\">\n",
       "<hr/>\n",
       "<div class=\"row\">\n",
       "<div class=\"col-md-4\">\n",
       "<div class=\"list_image\">\n",
       "<img src=\"https://mars.nasa.gov/system/news_items/list_view_images/8662_video-collage-perseverance-320x240.jpg\"/>\n",
       "</div>\n",
       "</div>\n",
       "<div class=\"col-md-8\">\n",
       "<div class=\"list_text\">\n",
       "<div class=\"list_date\">May 26, 2022</div>\n",
       "<div class=\"content_title\">Meet the People Behind NASA's Perseverance Rover</div>\n",
       "<div class=\"article_teaser_body\">These are the scientists and engineers who built NASA's next Mars rover and who will guide it to a safe landing in Jezero Crater. </div>\n",
       "</div>\n",
       "</div>\n",
       "</div>\n",
       "</div>\n",
       "<div class=\"col-md-12\">\n",
       "<hr/>\n",
       "<div class=\"row\">\n",
       "<div class=\"col-md-4\">\n",
       "<div class=\"list_image\">\n",
       "<img src=\"https://mars.nasa.gov/system/news_items/list_view_images/8622_1-PIA23764-RoverNamePlateonMars-320x240.jpg\"/>\n",
       "</div>\n",
       "</div>\n",
       "<div class=\"col-md-8\">\n",
       "<div class=\"list_text\">\n",
       "<div class=\"list_date\">May 24, 2022</div>\n",
       "<div class=\"content_title\">Virginia Middle School Student Earns Honor of Naming NASA's Next Mars Rover</div>\n",
       "<div class=\"article_teaser_body\">NASA chose a seventh-grader from Virginia as winner of the agency's \"Name the Rover\" essay contest. Alexander Mather's entry for \"Perseverance\" was voted tops among 28,000 entries. </div>\n",
       "</div>\n",
       "</div>\n",
       "</div>\n",
       "</div>\n",
       "<div class=\"col-md-12\">\n",
       "<hr/>\n",
       "<div class=\"row\">\n",
       "<div class=\"col-md-4\">\n",
       "<div class=\"list_image\">\n",
       "<img src=\"https://mars.nasa.gov/system/news_items/list_view_images/8585_name20190625-320x240.jpg\"/>\n",
       "</div>\n",
       "</div>\n",
       "<div class=\"col-md-8\">\n",
       "<div class=\"list_text\">\n",
       "<div class=\"list_date\">May 23, 2022</div>\n",
       "<div class=\"content_title\">NASA's Mars 2020 Rover Closer to Getting Its Name</div>\n",
       "<div class=\"article_teaser_body\">155 students from across the U.S. have been chosen as semifinalists in NASA's essay contest to name the Mars 2020 rover, and see it launch from Cape Canaveral this July.</div>\n",
       "</div>\n",
       "</div>\n",
       "</div>\n",
       "</div>\n",
       "<div class=\"col-md-12\">\n",
       "<hr/>\n",
       "<div class=\"row\">\n",
       "<div class=\"col-md-4\">\n",
       "<div class=\"list_image\">\n",
       "<img src=\"https://mars.nasa.gov/system/news_items/list_view_images/8765_PIA24040-320.jpg\"/>\n",
       "</div>\n",
       "</div>\n",
       "<div class=\"col-md-8\">\n",
       "<div class=\"list_text\">\n",
       "<div class=\"list_date\">May 22, 2022</div>\n",
       "<div class=\"content_title\">AI Is Helping Scientists Discover Fresh Craters on Mars</div>\n",
       "<div class=\"article_teaser_body\">It's the first time machine learning has been used to find previously unknown craters on the Red Planet.</div>\n",
       "</div>\n",
       "</div>\n",
       "</div>\n",
       "</div>\n",
       "<div class=\"col-md-12\">\n",
       "<hr/>\n",
       "<div class=\"row\">\n",
       "<div class=\"col-md-4\">\n",
       "<div class=\"list_image\">\n",
       "<img src=\"https://mars.nasa.gov/system/news_items/list_view_images/8558_PIA23513-32x24.jpg\"/>\n",
       "</div>\n",
       "</div>\n",
       "<div class=\"col-md-8\">\n",
       "<div class=\"list_text\">\n",
       "<div class=\"list_date\">May 21, 2022</div>\n",
       "<div class=\"content_title\">Global Storms on Mars Launch Dust Towers Into the Sky</div>\n",
       "<div class=\"article_teaser_body\">A Mars Dust Tower Stands Out Dust storms are common on Mars. But every decade or so, something unpredictable happens: a series of runaway storms break out, covering the entire planet in a dusty haze.</div>\n",
       "</div>\n",
       "</div>\n",
       "</div>\n",
       "</div>\n",
       "<div class=\"col-md-12\">\n",
       "<hr/>\n",
       "<div class=\"row\">\n",
       "<div class=\"col-md-4\">\n",
       "<div class=\"list_image\">\n",
       "<img src=\"https://mars.nasa.gov/system/news_items/list_view_images/8504_insight20190822-226.gif\"/>\n",
       "</div>\n",
       "</div>\n",
       "<div class=\"col-md-8\">\n",
       "<div class=\"list_text\">\n",
       "<div class=\"list_date\">May 14, 2022</div>\n",
       "<div class=\"content_title\">NASA-JPL Names 'Rolling Stones Rock' on Mars</div>\n",
       "<div class=\"article_teaser_body\">NASA's Mars InSight mission honored one of the biggest bands of all time at Pasadena concert.</div>\n",
       "</div>\n",
       "</div>\n",
       "</div>\n",
       "</div>\n",
       "<div class=\"col-md-12\">\n",
       "<hr/>\n",
       "<div class=\"row\">\n",
       "<div class=\"col-md-4\">\n",
       "<div class=\"list_image\">\n",
       "<img src=\"https://mars.nasa.gov/system/news_items/list_view_images/8609_list_image.jpg\"/>\n",
       "</div>\n",
       "</div>\n",
       "<div class=\"col-md-8\">\n",
       "<div class=\"list_text\">\n",
       "<div class=\"list_date\">May 12, 2022</div>\n",
       "<div class=\"content_title\">NASA's Mars Reconnaissance Orbiter Undergoes Memory Update</div>\n",
       "<div class=\"article_teaser_body\">Other orbiters will continue relaying data from Mars surface missions for a two-week period.</div>\n",
       "</div>\n",
       "</div>\n",
       "</div>\n",
       "</div>\n",
       "<div class=\"col-md-12\">\n",
       "<hr/>\n",
       "<div class=\"row\">\n",
       "<div class=\"col-md-4\">\n",
       "<div class=\"list_image\">\n",
       "<img src=\"https://mars.nasa.gov/system/news_items/list_view_images/8721_24759_PIA23491-320x240.jpg\"/>\n",
       "</div>\n",
       "</div>\n",
       "<div class=\"col-md-8\">\n",
       "<div class=\"list_text\">\n",
       "<div class=\"list_date\">May 9, 2022</div>\n",
       "<div class=\"content_title\">A New Video Captures the Science of NASA's Perseverance Mars Rover</div>\n",
       "<div class=\"article_teaser_body\">With a targeted launch date of July 30, the next robotic scientist NASA is sending to the to the Red Planet has big ambitions.</div>\n",
       "</div>\n",
       "</div>\n",
       "</div>\n",
       "</div>\n",
       "<div class=\"col-md-12\">\n",
       "<hr/>\n",
       "<div class=\"row\">\n",
       "<div class=\"col-md-4\">\n",
       "<div class=\"list_image\">\n",
       "<img src=\"https://mars.nasa.gov/system/news_items/list_view_images/8408_22206_PIA22655-th.gif\"/>\n",
       "</div>\n",
       "</div>\n",
       "<div class=\"col-md-8\">\n",
       "<div class=\"list_text\">\n",
       "<div class=\"list_date\">May 5, 2022</div>\n",
       "<div class=\"content_title\">The MarCO Mission Comes to an End</div>\n",
       "<div class=\"article_teaser_body\">The pair of briefcase-sized satellites made history when they sailed past Mars in 2019.</div>\n",
       "</div>\n",
       "</div>\n",
       "</div>\n",
       "</div>\n",
       "<div class=\"col-md-12\">\n",
       "<hr/>\n",
       "<div class=\"row\">\n",
       "<div class=\"col-md-4\">\n",
       "<div class=\"list_image\">\n",
       "<img src=\"https://mars.nasa.gov/system/news_items/list_view_images/8778_3d-320x240.jpg\"/>\n",
       "</div>\n",
       "</div>\n",
       "<div class=\"col-md-8\">\n",
       "<div class=\"list_text\">\n",
       "<div class=\"list_date\">May 3, 2022</div>\n",
       "<div class=\"content_title\">NASA's Perseverance Rover Bringing 3D-Printed Metal Parts to Mars</div>\n",
       "<div class=\"article_teaser_body\">For hobbyists and makers, 3D printing expands creative possibilities; for specialized engineers, it's also key to next-generation spacecraft design.</div>\n",
       "</div>\n",
       "</div>\n",
       "</div>\n",
       "</div>\n",
       "<div class=\"col-md-12\">\n",
       "<hr/>\n",
       "<div class=\"row\">\n",
       "<div class=\"col-md-4\">\n",
       "<div class=\"list_image\">\n",
       "<img src=\"https://mars.nasa.gov/system/news_items/list_view_images/8561_MarCO-32x24.jpg\"/>\n",
       "</div>\n",
       "</div>\n",
       "<div class=\"col-md-8\">\n",
       "<div class=\"list_text\">\n",
       "<div class=\"list_date\">May 1, 2022</div>\n",
       "<div class=\"content_title\">NASA's Briefcase-Size MarCO Satellite Picks Up Honors</div>\n",
       "<div class=\"article_teaser_body\">The twin spacecraft, the first of their kind to fly into deep space, earn a Laureate from Aviation Week &amp; Space Technology.</div>\n",
       "</div>\n",
       "</div>\n",
       "</div>\n",
       "</div>\n",
       "</div>"
      ]
     },
     "execution_count": 9,
     "metadata": {},
     "output_type": "execute_result"
    }
   ],
   "source": [
    "#from soup find id which is = news\n",
    "news_title = soup.find(id = 'news')\n",
    "news_title"
   ]
  },
  {
   "cell_type": "code",
   "execution_count": 10,
   "id": "8f1ba930",
   "metadata": {},
   "outputs": [],
   "source": [
    "#to create a list with all the titles\n",
    "#news = news_title.select('#news .content_title')\n",
    "#news_list = []\n",
    "#for new in news:\n",
    "    #print(new.text)\n",
    "    #news_list.append(new.text)\n",
    "#print(news_list)"
   ]
  },
  {
   "cell_type": "code",
   "execution_count": 11,
   "id": "b93e6903",
   "metadata": {},
   "outputs": [],
   "source": [
    "#all the responses\n",
    "#news_one_ = news_title.select('#news .content_title')"
   ]
  },
  {
   "cell_type": "code",
   "execution_count": 12,
   "id": "4e1f664d",
   "metadata": {},
   "outputs": [
    {
     "data": {
      "text/plain": [
       "\"Air Deliveries Bring NASA's Perseverance Mars Rover Closer to Launch\""
      ]
     },
     "execution_count": 12,
     "metadata": {},
     "output_type": "execute_result"
    }
   ],
   "source": [
    "#select the first title\n",
    "news_one = news_title.select('#news .content_title')[0].text\n",
    "news_one"
   ]
  },
  {
   "cell_type": "code",
   "execution_count": 13,
   "id": "e942dd8f",
   "metadata": {},
   "outputs": [
    {
     "data": {
      "text/plain": [
       "\"A NASA Wallops Flight Facility cargo plane transported more than two tons of equipment — including the rover's sample collection tubes — to Florida for this summer's liftoff.\""
      ]
     },
     "execution_count": 13,
     "metadata": {},
     "output_type": "execute_result"
    }
   ],
   "source": [
    "#select the first paragraph\n",
    "para_text = news_title.select('#news .article_teaser_body')[0].text\n",
    "para_text"
   ]
  },
  {
   "cell_type": "markdown",
   "id": "a7846dad",
   "metadata": {},
   "source": [
    "# JPL Mars Space Images—Featured Image"
   ]
  },
  {
   "cell_type": "code",
   "execution_count": 14,
   "id": "56395b37",
   "metadata": {},
   "outputs": [
    {
     "name": "stderr",
     "output_type": "stream",
     "text": [
      "\n",
      "\n",
      "====== WebDriver manager ======\n",
      "Current google-chrome version is 102.0.5005\n",
      "Get LATEST chromedriver version for 102.0.5005 google-chrome\n",
      "Driver [/Users/annepizzini/.wdm/drivers/chromedriver/mac64/102.0.5005.61/chromedriver] found in cache\n"
     ]
    }
   ],
   "source": [
    "executable_path = {'executable_path': ChromeDriverManager().install()}\n",
    "browser = Browser('chrome', **executable_path, headless=False)"
   ]
  },
  {
   "cell_type": "code",
   "execution_count": 15,
   "id": "7b9d5ab4",
   "metadata": {},
   "outputs": [],
   "source": [
    "#Visit the URL for the Featured Space Image site(https://spaceimages-mars.com).\n",
    "url_image = 'https://spaceimages-mars.com'\n",
    "browser.visit(url_image)"
   ]
  },
  {
   "cell_type": "code",
   "execution_count": 16,
   "id": "4fd9f319",
   "metadata": {},
   "outputs": [
    {
     "name": "stdout",
     "output_type": "stream",
     "text": [
      "https://spaceimages-mars.com/image/featured/mars2.jpg\n"
     ]
    }
   ],
   "source": [
    " #Use Splinter to navigate the site and find the image URL for the current Featured Mars Image\n",
    "    \n",
    "#Iterate through all pages\n",
    "for x in range(50):\n",
    "    # HTML object\n",
    "    html = browser.html\n",
    "    # Parse HTML with Beautiful Soup\n",
    "    soupA = bs(html, 'html.parser')\n",
    "    # Retrieve all elements that contain book information\n",
    "    images = soupA.find('img', class_='headerimage fade-in')['src']\n",
    "    first_part = 'https://spaceimages-mars.com/'\n",
    "#then assign the URL string to a variable called `featured_image_url`.\n",
    "    featured_image_url = first_part + images\n",
    "print(featured_image_url)"
   ]
  },
  {
   "cell_type": "code",
   "execution_count": null,
   "id": "b0551953",
   "metadata": {},
   "outputs": [],
   "source": []
  },
  {
   "cell_type": "markdown",
   "id": "f60292b5",
   "metadata": {},
   "source": [
    "# Mars Facts"
   ]
  },
  {
   "cell_type": "code",
   "execution_count": 17,
   "id": "82975ce8",
   "metadata": {},
   "outputs": [],
   "source": [
    "#import dependencies \n",
    "import pandas as pd"
   ]
  },
  {
   "cell_type": "code",
   "execution_count": 18,
   "id": "b0c13e43",
   "metadata": {},
   "outputs": [],
   "source": [
    "#Visit (https://galaxyfacts-mars.com)\n",
    "mars_url = 'https://galaxyfacts-mars.com'"
   ]
  },
  {
   "cell_type": "code",
   "execution_count": 19,
   "id": "d4963f02",
   "metadata": {
    "scrolled": true
   },
   "outputs": [
    {
     "data": {
      "text/plain": [
       "[                         0                1                2\n",
       " 0  Mars - Earth Comparison             Mars            Earth\n",
       " 1                Diameter:         6,779 km        12,742 km\n",
       " 2                    Mass:  6.39 × 10^23 kg  5.97 × 10^24 kg\n",
       " 3                   Moons:                2                1\n",
       " 4       Distance from Sun:   227,943,824 km   149,598,262 km\n",
       " 5          Length of Year:   687 Earth days      365.24 days\n",
       " 6             Temperature:     -87 to -5 °C      -88 to 58°C,\n",
       "                       0                              1\n",
       " 0  Equatorial Diameter:                       6,792 km\n",
       " 1       Polar Diameter:                       6,752 km\n",
       " 2                 Mass:  6.39 × 10^23 kg (0.11 Earths)\n",
       " 3                Moons:          2 ( Phobos & Deimos )\n",
       " 4       Orbit Distance:       227,943,824 km (1.38 AU)\n",
       " 5         Orbit Period:           687 days (1.9 years)\n",
       " 6  Surface Temperature:                   -87 to -5 °C\n",
       " 7         First Record:              2nd millennium BC\n",
       " 8          Recorded By:           Egyptian astronomers]"
      ]
     },
     "execution_count": 19,
     "metadata": {},
     "output_type": "execute_result"
    }
   ],
   "source": [
    "#use Pandas to scrape the table containing facts about the planet including diameter, mass, etc.\n",
    "mars_tables = pd.read_html(mars_url)\n",
    "mars_tables"
   ]
  },
  {
   "cell_type": "code",
   "execution_count": 20,
   "id": "f62afff1",
   "metadata": {},
   "outputs": [
    {
     "data": {
      "text/html": [
       "<div>\n",
       "<style scoped>\n",
       "    .dataframe tbody tr th:only-of-type {\n",
       "        vertical-align: middle;\n",
       "    }\n",
       "\n",
       "    .dataframe tbody tr th {\n",
       "        vertical-align: top;\n",
       "    }\n",
       "\n",
       "    .dataframe thead th {\n",
       "        text-align: right;\n",
       "    }\n",
       "</style>\n",
       "<table border=\"1\" class=\"dataframe\">\n",
       "  <thead>\n",
       "    <tr style=\"text-align: right;\">\n",
       "      <th></th>\n",
       "      <th>0</th>\n",
       "      <th>1</th>\n",
       "      <th>2</th>\n",
       "    </tr>\n",
       "  </thead>\n",
       "  <tbody>\n",
       "    <tr>\n",
       "      <th>0</th>\n",
       "      <td>Mars - Earth Comparison</td>\n",
       "      <td>Mars</td>\n",
       "      <td>Earth</td>\n",
       "    </tr>\n",
       "    <tr>\n",
       "      <th>1</th>\n",
       "      <td>Diameter:</td>\n",
       "      <td>6,779 km</td>\n",
       "      <td>12,742 km</td>\n",
       "    </tr>\n",
       "    <tr>\n",
       "      <th>2</th>\n",
       "      <td>Mass:</td>\n",
       "      <td>6.39 × 10^23 kg</td>\n",
       "      <td>5.97 × 10^24 kg</td>\n",
       "    </tr>\n",
       "    <tr>\n",
       "      <th>3</th>\n",
       "      <td>Moons:</td>\n",
       "      <td>2</td>\n",
       "      <td>1</td>\n",
       "    </tr>\n",
       "    <tr>\n",
       "      <th>4</th>\n",
       "      <td>Distance from Sun:</td>\n",
       "      <td>227,943,824 km</td>\n",
       "      <td>149,598,262 km</td>\n",
       "    </tr>\n",
       "  </tbody>\n",
       "</table>\n",
       "</div>"
      ],
      "text/plain": [
       "                         0                1                2\n",
       "0  Mars - Earth Comparison             Mars            Earth\n",
       "1                Diameter:         6,779 km        12,742 km\n",
       "2                    Mass:  6.39 × 10^23 kg  5.97 × 10^24 kg\n",
       "3                   Moons:                2                1\n",
       "4       Distance from Sun:   227,943,824 km   149,598,262 km"
      ]
     },
     "execution_count": 20,
     "metadata": {},
     "output_type": "execute_result"
    }
   ],
   "source": [
    "#Use Pandas to convert the data into a dataframe\n",
    "mars_df = mars_tables[0]\n",
    "mars_df.head()"
   ]
  },
  {
   "cell_type": "code",
   "execution_count": 21,
   "id": "16ae2631",
   "metadata": {},
   "outputs": [
    {
     "data": {
      "text/plain": [
       "'<table border=\"1\" class=\"dataframe\">\\n  <thead>\\n    <tr style=\"text-align: right;\">\\n      <th></th>\\n      <th>0</th>\\n      <th>1</th>\\n      <th>2</th>\\n    </tr>\\n  </thead>\\n  <tbody>\\n    <tr>\\n      <th>0</th>\\n      <td>Mars - Earth Comparison</td>\\n      <td>Mars</td>\\n      <td>Earth</td>\\n    </tr>\\n    <tr>\\n      <th>1</th>\\n      <td>Diameter:</td>\\n      <td>6,779 km</td>\\n      <td>12,742 km</td>\\n    </tr>\\n    <tr>\\n      <th>2</th>\\n      <td>Mass:</td>\\n      <td>6.39 × 10^23 kg</td>\\n      <td>5.97 × 10^24 kg</td>\\n    </tr>\\n    <tr>\\n      <th>3</th>\\n      <td>Moons:</td>\\n      <td>2</td>\\n      <td>1</td>\\n    </tr>\\n    <tr>\\n      <th>4</th>\\n      <td>Distance from Sun:</td>\\n      <td>227,943,824 km</td>\\n      <td>149,598,262 km</td>\\n    </tr>\\n    <tr>\\n      <th>5</th>\\n      <td>Length of Year:</td>\\n      <td>687 Earth days</td>\\n      <td>365.24 days</td>\\n    </tr>\\n    <tr>\\n      <th>6</th>\\n      <td>Temperature:</td>\\n      <td>-87 to -5 °C</td>\\n      <td>-88 to 58°C</td>\\n    </tr>\\n  </tbody>\\n</table>'"
      ]
     },
     "execution_count": 21,
     "metadata": {},
     "output_type": "execute_result"
    }
   ],
   "source": [
    "#Use Pandas to convert the dataframe to a HTML table string.\n",
    "mars_html = mars_df.to_html()\n",
    "mars_html"
   ]
  },
  {
   "cell_type": "code",
   "execution_count": 22,
   "id": "f6132e5b",
   "metadata": {},
   "outputs": [],
   "source": [
    "#save to HTML file\n",
    "mars_df.to_html('mars_table.html')"
   ]
  },
  {
   "cell_type": "markdown",
   "id": "c4188bfb",
   "metadata": {},
   "source": [
    "# Mars Hemispheres"
   ]
  },
  {
   "cell_type": "code",
   "execution_count": 23,
   "id": "11b44030",
   "metadata": {},
   "outputs": [],
   "source": [
    "#add url link\n",
    "mars_url = 'https://marshemispheres.com/'\n",
    "\n",
    "#opening the browser\n",
    "browser.visit(mars_url)\n",
    "\n",
    "hemisphere_image_urls = []\n",
    "\n",
    "for i in range(4):\n",
    "    mars_hem = {}\n",
    "    \n",
    "    browser.find_by_css('a.product-item h3')[i].click()\n",
    "    \n",
    "    #create a starting element\n",
    "    element = browser.links.find_by_text('Sample').first\n",
    "    \n",
    "    url_img = element['href']\n",
    "\n",
    "    h2_title = browser.find_by_css('h2.title').text\n",
    "   \n",
    "    #create lists for img_url link and for the title \n",
    "    mars_hem[\"Image URL\"] = url_img\n",
    "    mars_hem[\"Title\"] = h2_title\n",
    "   \n",
    "    \n",
    "    #add to the list\n",
    "    hemisphere_image_urls.append(mars_hem)\n",
    "    browser.back()\n"
   ]
  },
  {
   "cell_type": "code",
   "execution_count": 24,
   "id": "074dd376",
   "metadata": {},
   "outputs": [
    {
     "name": "stdout",
     "output_type": "stream",
     "text": [
      "[{'Image URL': 'https://marshemispheres.com/images/full.jpg', 'Title': 'Cerberus Hemisphere Enhanced'}, {'Image URL': 'https://marshemispheres.com/images/schiaparelli_enhanced-full.jpg', 'Title': 'Schiaparelli Hemisphere Enhanced'}, {'Image URL': 'https://marshemispheres.com/images/syrtis_major_enhanced-full.jpg', 'Title': 'Syrtis Major Hemisphere Enhanced'}, {'Image URL': 'https://marshemispheres.com/images/valles_marineris_enhanced-full.jpg', 'Title': 'Valles Marineris Hemisphere Enhanced'}]\n"
     ]
    }
   ],
   "source": [
    "#print the list\n",
    "print(hemisphere_image_urls)"
   ]
  },
  {
   "cell_type": "code",
   "execution_count": 25,
   "id": "b1bf865a",
   "metadata": {},
   "outputs": [
    {
     "name": "stdout",
     "output_type": "stream",
     "text": [
      "{'first_paragraph': \"A NASA Wallops Flight Facility cargo plane transported more than two tons of equipment — including the rover's sample collection tubes — to Florida for this summer's liftoff.\", 'first_article': \"Air Deliveries Bring NASA's Perseverance Mars Rover Closer to Launch\", 'feature_image_url': 'https://spaceimages-mars.com/image/featured/mars2.jpg', 'mars_table':                          0                1                2\n",
      "0  Mars - Earth Comparison             Mars            Earth\n",
      "1                Diameter:         6,779 km        12,742 km\n",
      "2                    Mass:  6.39 × 10^23 kg  5.97 × 10^24 kg\n",
      "3                   Moons:                2                1\n",
      "4       Distance from Sun:   227,943,824 km   149,598,262 km\n",
      "5          Length of Year:   687 Earth days      365.24 days\n",
      "6             Temperature:     -87 to -5 °C      -88 to 58°C, 'hemisphere_image_urls': [{'Image URL': 'https://marshemispheres.com/images/full.jpg', 'Title': 'Cerberus Hemisphere Enhanced'}, {'Image URL': 'https://marshemispheres.com/images/schiaparelli_enhanced-full.jpg', 'Title': 'Schiaparelli Hemisphere Enhanced'}, {'Image URL': 'https://marshemispheres.com/images/syrtis_major_enhanced-full.jpg', 'Title': 'Syrtis Major Hemisphere Enhanced'}, {'Image URL': 'https://marshemispheres.com/images/valles_marineris_enhanced-full.jpg', 'Title': 'Valles Marineris Hemisphere Enhanced'}]}\n"
     ]
    }
   ],
   "source": [
    "#place into dic\n",
    "\n",
    "data = {\n",
    "    'first_paragraph': para_text,\n",
    "    'first_article': news_one,\n",
    "    'feature_image_url': featured_image_url,\n",
    "    'mars_table': mars_df,\n",
    "    'hemisphere_image_urls': hemisphere_image_urls\n",
    "}\n",
    "\n",
    "print(data)\n",
    "\n",
    "browser.quit()\n",
    "\n"
   ]
  },
  {
   "cell_type": "code",
   "execution_count": null,
   "id": "e54143bf",
   "metadata": {},
   "outputs": [],
   "source": []
  }
 ],
 "metadata": {
  "kernelspec": {
   "display_name": "Python [conda env:PythonData38]",
   "language": "python",
   "name": "conda-env-PythonData38-py"
  },
  "language_info": {
   "codemirror_mode": {
    "name": "ipython",
    "version": 3
   },
   "file_extension": ".py",
   "mimetype": "text/x-python",
   "name": "python",
   "nbconvert_exporter": "python",
   "pygments_lexer": "ipython3",
   "version": "3.8.12"
  }
 },
 "nbformat": 4,
 "nbformat_minor": 5
}
